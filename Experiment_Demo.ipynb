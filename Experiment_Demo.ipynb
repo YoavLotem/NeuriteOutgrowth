{
  "nbformat": 4,
  "nbformat_minor": 0,
  "metadata": {
    "colab": {
      "name": "Experiment Demo.ipynb",
      "provenance": [],
      "collapsed_sections": [
        "zqirioA_Dl0m"
      ]
    },
    "kernelspec": {
      "name": "python3",
      "display_name": "Python 3"
    },
    "language_info": {
      "name": "python"
    },
    "accelerator": "GPU"
  },
  "cells": [
    {
      "cell_type": "markdown",
      "source": [
        "## **Mount Drive (When Using Google Colab)**"
      ],
      "metadata": {
        "id": "hYdmNn2bsKCb"
      }
    },
    {
      "cell_type": "code",
      "metadata": {
        "colab": {
          "base_uri": "https://localhost:8080/"
        },
        "id": "MXz2BWM-vuKD",
        "outputId": "c2503196-9d99-4752-eb99-e70d463e1764"
      },
      "source": [
        "from google.colab import drive\n",
        "drive.mount('/content/gdrive')\n",
        "%cd gdrive/My Drive/NeuriteOutgrowth"
      ],
      "execution_count": null,
      "outputs": [
        {
          "output_type": "stream",
          "name": "stdout",
          "text": [
            "Mounted at /content/gdrive\n",
            "/content/gdrive/My Drive/NeuriteOutgrowth\n"
          ]
        }
      ]
    },
    {
      "cell_type": "markdown",
      "metadata": {
        "id": "vXuZhdeywYHO"
      },
      "source": [
        "# **Process Full Experiment Data**\n",
        "\n",
        "**Processing experiment data using this repository consists of two stages:**\n",
        "1. Process every pair of images in the experiment (FITC & DAPI) using the computer vision pipeline that detects the neurites, cells etc. and extracts raw data from the images.\n",
        "2. Process the data (from phase 1) of each well in the experiment. Data processing pipeline includes outlier removal and complex features calculations. The output of this part could easily be used to calculate statistics for each well to detect \"hits\" (compounds that have a statistically significant impact on the cell culture's neurite outgrowth measures).\n",
        "\n",
        "**To demostrate running an experiment, we will use experiment data found in the following link:**\n",
        "[https://drive.google.com/drive/folders/1732_SIn6r3x8eU7y-2Pf_LIr0sE4OQQQ?usp=sharing](https://drive.google.com/drive/folders/1732_SIn6r3x8eU7y-2Pf_LIr0sE4OQQQ?usp=sharing)"
      ]
    },
    {
      "cell_type": "markdown",
      "source": [
        "**Notice:  The code in the repository assumes similar naming to the images in the folder the above link leads to (mind the spacing) for example:**\n",
        "\n",
        "\n",
        "\n",
        "*   The name of the DAPI image of field number 1 in row B and column 11 would be:\n",
        "\n",
        " \"B - 11(fld 01 wv DAPI - DAPI).tif\"\n",
        "*   Similarly the name of the FITC image in field number 10 in row C and column 03 would be: \n",
        "\n",
        "  \"C - 03(fld 10 wv FITC - FITC).tif\" \n",
        "\n",
        "\n",
        "\n",
        "\n",
        "\n"
      ],
      "metadata": {
        "id": "V9lTSMCDoHyp"
      }
    },
    {
      "cell_type": "markdown",
      "source": [
        "**Dont forget (!!!) to download the [Mask RCNN weights](https://drive.google.com/file/d/1sX5u0dEBvA8Y8z8UObXsty-CE_TjWNKH/view?usp=sharing) and place them in the repository root directory  (\"NeuriteOutgrowth\" folder)**"
      ],
      "metadata": {
        "id": "V9e4SwWroj2h"
      }
    },
    {
      "cell_type": "markdown",
      "metadata": {
        "id": "2AFkg0nrDK_U"
      },
      "source": [
        "**Set NeuriteOutgrowth as root directory**"
      ]
    },
    {
      "cell_type": "code",
      "metadata": {
        "id": "Tht5UV7LDFCE"
      },
      "source": [
        "import os\n",
        "import sys\n",
        "import subprocess\n",
        "\n",
        "# Set NeuriteOutgrowth folder as root directory of the project\n",
        "current_dir = os.getcwd()\n",
        "last_folder_in_dir = os.path.basename(os.path.normpath(current_dir))\n",
        "assert last_folder_in_dir == \"NeuriteOutgrowth\", \"you need to set NeuriteOutgrowth as root dir\"\n",
        "ROOT_DIR = current_dir\n",
        "\n",
        "# Import repo\n",
        "sys.path.append(ROOT_DIR)  # To find local version of the library"
      ],
      "execution_count": null,
      "outputs": []
    },
    {
      "cell_type": "markdown",
      "metadata": {
        "id": "YnEvIlXSDPBs"
      },
      "source": [
        "**Indicate the position of the two h5 files (models and weights) download Mask RCNN weights if needed**"
      ]
    },
    {
      "cell_type": "code",
      "metadata": {
        "id": "eBbsmu85DRLK"
      },
      "source": [
        "# Local path to trained model h5 file (assuming they were saved on root directory)\n",
        "neurite_segmentation_model_path = os.path.join(ROOT_DIR, \"neurite_unet_weights.h5\")\n",
        "assert os.path.exists(neurite_segmentation_model_path), \"please download neurite_unet_weights.h5 file into ROOT_DIR\"\n",
        "\n",
        "# Local path to trained weights h5 file (assuming they were saved on root directory)\n",
        "mask_rcnn_weights_path = os.path.join(ROOT_DIR, \"deepretina_final.h5\")\n",
        "assert os.path.exists(mask_rcnn_weights_path), \"please download deepretina_final.h5 file (Mask RCNN weights)  into ROOT_DIR\""
      ],
      "execution_count": null,
      "outputs": []
    },
    {
      "cell_type": "markdown",
      "metadata": {
        "id": "zqirioA_Dl0m"
      },
      "source": [
        "## **Modifications for Google Colab only**\n",
        "\n",
        "This section will install packages not in Google Colab and select Tensorflow 1.\n",
        "\n",
        "You might be asked to restart runtime"
      ]
    },
    {
      "cell_type": "markdown",
      "metadata": {
        "id": "h8wZgf0yAw_t"
      },
      "source": [
        "**Downgrade h5py**"
      ]
    },
    {
      "cell_type": "code",
      "metadata": {
        "colab": {
          "base_uri": "https://localhost:8080/"
        },
        "id": "YaNBLegpAx1t",
        "outputId": "92fba11c-0b12-488e-d0af-46b3e06463e7"
      },
      "source": [
        "pip install h5py==2.10.0"
      ],
      "execution_count": null,
      "outputs": [
        {
          "output_type": "stream",
          "name": "stdout",
          "text": [
            "Collecting h5py==2.10.0\n",
            "  Downloading h5py-2.10.0-cp37-cp37m-manylinux1_x86_64.whl (2.9 MB)\n",
            "\u001b[K     |████████████████████████████████| 2.9 MB 13.8 MB/s \n",
            "\u001b[?25hRequirement already satisfied: numpy>=1.7 in /usr/local/lib/python3.7/dist-packages (from h5py==2.10.0) (1.19.5)\n",
            "Requirement already satisfied: six in /usr/local/lib/python3.7/dist-packages (from h5py==2.10.0) (1.15.0)\n",
            "Installing collected packages: h5py\n",
            "  Attempting uninstall: h5py\n",
            "    Found existing installation: h5py 3.1.0\n",
            "    Uninstalling h5py-3.1.0:\n",
            "      Successfully uninstalled h5py-3.1.0\n",
            "Successfully installed h5py-2.10.0\n"
          ]
        }
      ]
    },
    {
      "cell_type": "markdown",
      "metadata": {
        "id": "-BiwOAVt-_WV"
      },
      "source": [
        "**install \"skan\"**"
      ]
    },
    {
      "cell_type": "code",
      "metadata": {
        "colab": {
          "base_uri": "https://localhost:8080/"
        },
        "id": "m23wCv7EM-CX",
        "outputId": "27aabed9-5dfc-46b8-ab38-e50a61d36f89"
      },
      "source": [
        "pip install skan"
      ],
      "execution_count": null,
      "outputs": [
        {
          "output_type": "stream",
          "name": "stdout",
          "text": [
            "Collecting skan\n",
            "  Downloading skan-0.10.0-py3-none-any.whl (1.5 MB)\n",
            "\u001b[K     |████████████████████████████████| 1.5 MB 11.1 MB/s \n",
            "\u001b[?25hRequirement already satisfied: scikit-image>=0.17 in /usr/local/lib/python3.7/dist-packages (from skan) (0.18.3)\n",
            "Requirement already satisfied: openpyxl>=2.4 in /usr/local/lib/python3.7/dist-packages (from skan) (2.5.9)\n",
            "Requirement already satisfied: numba>=0.50 in /usr/local/lib/python3.7/dist-packages (from skan) (0.51.2)\n",
            "Requirement already satisfied: imageio>=2.0 in /usr/local/lib/python3.7/dist-packages (from skan) (2.4.1)\n",
            "Requirement already satisfied: networkx>=2.0 in /usr/local/lib/python3.7/dist-packages (from skan) (2.6.3)\n",
            "Requirement already satisfied: pandas>=1.0 in /usr/local/lib/python3.7/dist-packages (from skan) (1.1.5)\n",
            "Requirement already satisfied: tqdm>=4.56.0 in /usr/local/lib/python3.7/dist-packages (from skan) (4.62.3)\n",
            "Requirement already satisfied: matplotlib>=3.0 in /usr/local/lib/python3.7/dist-packages (from skan) (3.2.2)\n",
            "Requirement already satisfied: numpy>=1.16.5 in /usr/local/lib/python3.7/dist-packages (from skan) (1.19.5)\n",
            "Requirement already satisfied: scipy>=1.2.0 in /usr/local/lib/python3.7/dist-packages (from skan) (1.4.1)\n",
            "Requirement already satisfied: toolz>=0.10.0 in /usr/local/lib/python3.7/dist-packages (from skan) (0.11.2)\n",
            "Collecting numpydoc>=0.9.2\n",
            "  Downloading numpydoc-1.1.0-py3-none-any.whl (47 kB)\n",
            "\u001b[K     |████████████████████████████████| 47 kB 4.9 MB/s \n",
            "\u001b[?25hRequirement already satisfied: pillow in /usr/local/lib/python3.7/dist-packages (from imageio>=2.0->skan) (7.1.2)\n",
            "Requirement already satisfied: python-dateutil>=2.1 in /usr/local/lib/python3.7/dist-packages (from matplotlib>=3.0->skan) (2.8.2)\n",
            "Requirement already satisfied: pyparsing!=2.0.4,!=2.1.2,!=2.1.6,>=2.0.1 in /usr/local/lib/python3.7/dist-packages (from matplotlib>=3.0->skan) (3.0.6)\n",
            "Requirement already satisfied: cycler>=0.10 in /usr/local/lib/python3.7/dist-packages (from matplotlib>=3.0->skan) (0.11.0)\n",
            "Requirement already satisfied: kiwisolver>=1.0.1 in /usr/local/lib/python3.7/dist-packages (from matplotlib>=3.0->skan) (1.3.2)\n",
            "Requirement already satisfied: llvmlite<0.35,>=0.34.0.dev0 in /usr/local/lib/python3.7/dist-packages (from numba>=0.50->skan) (0.34.0)\n",
            "Requirement already satisfied: setuptools in /usr/local/lib/python3.7/dist-packages (from numba>=0.50->skan) (57.4.0)\n",
            "Requirement already satisfied: sphinx>=1.6.5 in /usr/local/lib/python3.7/dist-packages (from numpydoc>=0.9.2->skan) (1.8.6)\n",
            "Requirement already satisfied: Jinja2>=2.3 in /usr/local/lib/python3.7/dist-packages (from numpydoc>=0.9.2->skan) (2.11.3)\n",
            "Requirement already satisfied: MarkupSafe>=0.23 in /usr/local/lib/python3.7/dist-packages (from Jinja2>=2.3->numpydoc>=0.9.2->skan) (2.0.1)\n",
            "Requirement already satisfied: jdcal in /usr/local/lib/python3.7/dist-packages (from openpyxl>=2.4->skan) (1.4.1)\n",
            "Requirement already satisfied: et-xmlfile in /usr/local/lib/python3.7/dist-packages (from openpyxl>=2.4->skan) (1.1.0)\n",
            "Requirement already satisfied: pytz>=2017.2 in /usr/local/lib/python3.7/dist-packages (from pandas>=1.0->skan) (2018.9)\n",
            "Requirement already satisfied: six>=1.5 in /usr/local/lib/python3.7/dist-packages (from python-dateutil>=2.1->matplotlib>=3.0->skan) (1.15.0)\n",
            "Requirement already satisfied: PyWavelets>=1.1.1 in /usr/local/lib/python3.7/dist-packages (from scikit-image>=0.17->skan) (1.2.0)\n",
            "Requirement already satisfied: tifffile>=2019.7.26 in /usr/local/lib/python3.7/dist-packages (from scikit-image>=0.17->skan) (2021.11.2)\n",
            "Requirement already satisfied: requests>=2.0.0 in /usr/local/lib/python3.7/dist-packages (from sphinx>=1.6.5->numpydoc>=0.9.2->skan) (2.23.0)\n",
            "Requirement already satisfied: snowballstemmer>=1.1 in /usr/local/lib/python3.7/dist-packages (from sphinx>=1.6.5->numpydoc>=0.9.2->skan) (2.2.0)\n",
            "Requirement already satisfied: babel!=2.0,>=1.3 in /usr/local/lib/python3.7/dist-packages (from sphinx>=1.6.5->numpydoc>=0.9.2->skan) (2.9.1)\n",
            "Requirement already satisfied: Pygments>=2.0 in /usr/local/lib/python3.7/dist-packages (from sphinx>=1.6.5->numpydoc>=0.9.2->skan) (2.6.1)\n",
            "Requirement already satisfied: sphinxcontrib-websupport in /usr/local/lib/python3.7/dist-packages (from sphinx>=1.6.5->numpydoc>=0.9.2->skan) (1.2.4)\n",
            "Requirement already satisfied: docutils<0.18,>=0.11 in /usr/local/lib/python3.7/dist-packages (from sphinx>=1.6.5->numpydoc>=0.9.2->skan) (0.17.1)\n",
            "Requirement already satisfied: imagesize in /usr/local/lib/python3.7/dist-packages (from sphinx>=1.6.5->numpydoc>=0.9.2->skan) (1.3.0)\n",
            "Requirement already satisfied: packaging in /usr/local/lib/python3.7/dist-packages (from sphinx>=1.6.5->numpydoc>=0.9.2->skan) (21.3)\n",
            "Requirement already satisfied: alabaster<0.8,>=0.7 in /usr/local/lib/python3.7/dist-packages (from sphinx>=1.6.5->numpydoc>=0.9.2->skan) (0.7.12)\n",
            "Requirement already satisfied: urllib3!=1.25.0,!=1.25.1,<1.26,>=1.21.1 in /usr/local/lib/python3.7/dist-packages (from requests>=2.0.0->sphinx>=1.6.5->numpydoc>=0.9.2->skan) (1.24.3)\n",
            "Requirement already satisfied: certifi>=2017.4.17 in /usr/local/lib/python3.7/dist-packages (from requests>=2.0.0->sphinx>=1.6.5->numpydoc>=0.9.2->skan) (2021.10.8)\n",
            "Requirement already satisfied: idna<3,>=2.5 in /usr/local/lib/python3.7/dist-packages (from requests>=2.0.0->sphinx>=1.6.5->numpydoc>=0.9.2->skan) (2.10)\n",
            "Requirement already satisfied: chardet<4,>=3.0.2 in /usr/local/lib/python3.7/dist-packages (from requests>=2.0.0->sphinx>=1.6.5->numpydoc>=0.9.2->skan) (3.0.4)\n",
            "Requirement already satisfied: sphinxcontrib-serializinghtml in /usr/local/lib/python3.7/dist-packages (from sphinxcontrib-websupport->sphinx>=1.6.5->numpydoc>=0.9.2->skan) (1.1.5)\n",
            "Installing collected packages: numpydoc, skan\n",
            "Successfully installed numpydoc-1.1.0 skan-0.10.0\n"
          ]
        }
      ]
    },
    {
      "cell_type": "markdown",
      "metadata": {
        "id": "I3SZ3fVP_4Bp"
      },
      "source": [
        "**Use Tensorflow 1 and restart (no need to run cell again after restarting)**"
      ]
    },
    {
      "cell_type": "code",
      "metadata": {
        "colab": {
          "base_uri": "https://localhost:8080/"
        },
        "id": "Gv-ZmQLa_5on",
        "outputId": "8f768475-3d74-45a5-ff57-7a1156bd776f"
      },
      "source": [
        "%tensorflow_version 1.x"
      ],
      "execution_count": null,
      "outputs": [
        {
          "output_type": "stream",
          "name": "stdout",
          "text": [
            "TensorFlow 1.x selected.\n"
          ]
        }
      ]
    },
    {
      "cell_type": "markdown",
      "metadata": {
        "id": "bexRbWojyuwh"
      },
      "source": [
        "## **Set Configurations**\n",
        "Please set the configurations before running the experiment as this is crucial for getting the right results. For more information about the parameters of the configuration read the code and comments of class ExperimentConfig in experiment_config.py and the thesis.\n",
        "\n",
        "**Example Configurations:**\n",
        "\n",
        "The example data consists of 7 wells, each well was imaged using 5 different fields of view (each field consists of a DAPI image and a FITC image). Therefore we will change the FIELDS_PER_WELL constant to 5, and the MIN_VALID_FIELDS and RANSAC_MIN_SAMPLES to 2 (or any other number smaller or equal to 5). "
      ]
    },
    {
      "cell_type": "code",
      "metadata": {
        "colab": {
          "base_uri": "https://localhost:8080/"
        },
        "id": "hDZTLTlAyzkn",
        "outputId": "05e79b28-fc1e-44be-f04a-31e1f2d74793"
      },
      "source": [
        "from src.experiment_config import ExperimentConfig\n",
        "class ExampleConfig(ExperimentConfig):\n",
        "    # number of fields of view in each well - pairs of images (DAPI and FITC) for each field\n",
        "    FIELDS_PER_WELL = 5\n",
        "    # minimum number of fields to accept the results of a well as valid\n",
        "    MIN_VALID_FIELDS = 2\n",
        "\n",
        "    # unsupervised outlier removal constants:\n",
        "    # straight line will be calculated using Random Sample Consensus (RANSAC) algorithm\n",
        "    # with number of samples randomly selected equal to RANSAC_MIN_SAMPLES.\n",
        "    RANSAC_MIN_SAMPLES = 2\n",
        "\n",
        "\n",
        "\n",
        "exp_config = ExampleConfig()\n",
        "exp_config.display()"
      ],
      "execution_count": null,
      "outputs": [
        {
          "output_type": "stream",
          "name": "stdout",
          "text": [
            "\n",
            "Configurations:\n",
            "BIN_SIZE                       25\n",
            "DISK_MASK                      [[False False False ... False False False]\n",
            " [False False False ... False False False]\n",
            " [False False False ... False False False]\n",
            " ...\n",
            " [False False False ... False False False]\n",
            " [False False False ... False False False]\n",
            " [False False False ... False False False]]\n",
            "D_EPS                          100\n",
            "EPS                            0\n",
            "FIELDS_PER_WELL                5\n",
            "MAX_APOP_RATIO                 0.25\n",
            "MAX_CELL_NUM                   1000\n",
            "MAX_DISTANCE                   1000\n",
            "MAX_HIGH_DENSITY_RATIO         0.45\n",
            "MIN_CELL_NUM                   50\n",
            "MIN_DISTANCE                   0\n",
            "MIN_SAMPLES                    10\n",
            "MIN_VALID_FIELDS               2\n",
            "NEURITE_SEGMENTATION_MODEL_PATH Old_Architechture_neurite_net_cosine.h5\n",
            "NUCLEI_MASK_RCNN_WEIGHTS_PATH  deepretina_final.h5\n",
            "PROBABILITY_THRESHOLD          0.05\n",
            "RADIUS                         15\n",
            "RANSAC_MIN_SAMPLES             2\n",
            "\n",
            "\n"
          ]
        }
      ]
    },
    {
      "cell_type": "markdown",
      "metadata": {
        "id": "8QeknyR5zaov"
      },
      "source": [
        "## **1. Run Computer Vision Pipeline - Use GPU**\n",
        "\n",
        "The CV pipeline extracts raw features related to neurite outgrowth from the input images.\n",
        "\n",
        "Users should mention The input images folder, the results output folder (should be an empty folder) and the experimental configurations.\n",
        "\n",
        "**Note:** Its possible to run an experiment in multiple runs if runtime is very long. To do that just run the cell again with the same input and output folder - the if an output file exists the algorithm knows to identify the last saved well and continue to the next one."
      ]
    },
    {
      "cell_type": "markdown",
      "metadata": {
        "id": "-lYhjqKurklX"
      },
      "source": [
        "\n",
        "\n",
        "\n",
        "**Disable Deprecation Warnings**"
      ]
    },
    {
      "cell_type": "code",
      "metadata": {
        "colab": {
          "base_uri": "https://localhost:8080/"
        },
        "id": "i_VvluGirXjD",
        "outputId": "5f5ad770-fabd-4a6e-e71c-e5516eec2e12"
      },
      "source": [
        "%tensorflow_version 1.x\n",
        "import tensorflow as tf\n",
        "tf.compat.v1.logging.set_verbosity(tf.compat.v1.logging.ERROR)"
      ],
      "execution_count": null,
      "outputs": [
        {
          "output_type": "stream",
          "name": "stdout",
          "text": [
            "TensorFlow 1.x selected.\n"
          ]
        }
      ]
    },
    {
      "cell_type": "markdown",
      "metadata": {
        "id": "layEkhDnuXE1"
      },
      "source": [
        "**Extract neurite outgrowth related data from all the images**"
      ]
    },
    {
      "cell_type": "code",
      "metadata": {
        "colab": {
          "base_uri": "https://localhost:8080/"
        },
        "id": "IYoyVJuuzZqY",
        "outputId": "d7dae26c-5d04-4a72-d6af-4afb82d70104"
      },
      "source": [
        "from src.computer_vision_pipeline.experiment_inference_utils import extract_data_from_plate_images\n",
        "import os\n",
        "\n",
        "\n",
        "Mydrive_full_path = r'/content/gdrive/MyDrive'\n",
        "input_images_folder = os.path.join(Mydrive_full_path,'Example_Experiment')\n",
        "results_output_folder = os.path.join(Mydrive_full_path, 'CV_Pipeline_Results')\n",
        "extract_data_from_plate_images(input_images_folder, results_output_folder, exp_config)"
      ],
      "execution_count": null,
      "outputs": [
        {
          "output_type": "stream",
          "name": "stderr",
          "text": [
            "Using TensorFlow backend.\n",
            "wells processed: 100%|██████████| 7/7 [23:49<00:00, 204.19s/wells]\n"
          ]
        }
      ]
    },
    {
      "cell_type": "markdown",
      "metadata": {
        "id": "ZbNxwrr9zycV"
      },
      "source": [
        "## **2. Run data Processing**\n",
        "\n",
        "This part takes as input the raw data that was extracted in the CV pipeline and performs outlier removal (removes fields with extreme values) and calcultes complex features. For more information regarding the outlier removal or feature calculation please refer to the thesis.\n",
        "\n",
        "**Notice:** it is necessary to declare the negative reference wells as they are used as reference to calculate the complex features."
      ]
    },
    {
      "cell_type": "code",
      "metadata": {
        "id": "yh2OZyfGz25J"
      },
      "source": [
        "from src.data_processing.processing_experiment_data import process_plate_data\n",
        "import os\n",
        "negative_ref_wells = [\"F - 10\"]\n",
        "Mydrive_full_path = r'/content/gdrive/MyDrive'\n",
        "results_output_folder = os.path.join(Mydrive_full_path, 'CV_Pipeline_Results')\n",
        "\n",
        "plate_processed_data = process_plate_data(results_output_folder, negative_ref_wells, exp_config)"
      ],
      "execution_count": null,
      "outputs": []
    },
    {
      "cell_type": "markdown",
      "metadata": {
        "id": "BWR4XHb02DBk"
      },
      "source": [
        "**The output of the second stage is a dictionary that contains a dictionary for each well's results:**\n",
        "\n",
        "a. Numerical results for the different attributes.\n",
        "\n",
        "b. A dictionary that holds outlier and toxicity information."
      ]
    },
    {
      "cell_type": "code",
      "metadata": {
        "colab": {
          "base_uri": "https://localhost:8080/"
        },
        "id": "bkbVPtk__GGj",
        "outputId": "2845f9cf-6134-4a00-99bd-bb4c047a687b"
      },
      "source": [
        "plate_processed_data['B - 02']"
      ],
      "execution_count": null,
      "outputs": [
        {
          "output_type": "execute_result",
          "data": {
            "text/plain": [
              "{'# Cells': 2852,\n",
              " 'Disconnected With Neurites': 1.8606861607479939,\n",
              " 'Expected VS Real Connection Ratio': 1.7975237028037558,\n",
              " 'Intermediate Connection Probability': 0.0817431665807117,\n",
              " 'Long Connection Probability': 0.0145526455898385,\n",
              " 'Neurite Average': 155.69973702664797,\n",
              " 'Normalized Neurite Length': 147.71000687415886,\n",
              " 'Short Connection Probability': 0.2613033594342006,\n",
              " 'Valid Fields': 5,\n",
              " 'Very Long Connection Probability': 0.0012205001322505003,\n",
              " 'outlier_dictionary': {'Apoptosis Ratio After Outlier Removal': 0.06,\n",
              "  'Apoptosis Ratio Before Outlier Removal': 0.06,\n",
              "  'Number of Fields With Apoptosis': 0,\n",
              "  'Number of Fields With Clustered Cells': 0,\n",
              "  'Number of Fields With High Cell Count': 0,\n",
              "  'Number of Fields With Low Cell Count': 0,\n",
              "  'Number of Unsupervised Outlier Fields': 0,\n",
              "  'Valid Fields': 5}}"
            ]
          },
          "metadata": {},
          "execution_count": 5
        }
      ]
    },
    {
      "cell_type": "markdown",
      "metadata": {
        "id": "USBCM6T20ItF"
      },
      "source": [
        "## **Results Visualizations**\n",
        "\n",
        "**In this section we will provide an example of visualizing an experiment's results:**\n",
        "\n",
        "Let us consider the example experiment: Well \"F - 10\" is the negative reference well and the rest of the wells are the test wells.  \n"
      ]
    },
    {
      "cell_type": "markdown",
      "metadata": {
        "id": "xWfzw9UTEdht"
      },
      "source": [
        "**Looking for Spatial Bias** \n",
        "\n",
        "Visualizing the experiment's plate may allow for detecting experimental biases. for example high levels of toxicity in certein parts of the plate or lower number of cells in the plate edges. "
      ]
    },
    {
      "cell_type": "code",
      "metadata": {
        "id": "CB4yY7L90JhK",
        "colab": {
          "base_uri": "https://localhost:8080/",
          "height": 366
        },
        "outputId": "ace84d4c-9dac-4bba-c8a0-765b58ec22c1"
      },
      "source": [
        "from src.data_processing.results_visualization import visualize_plate\n",
        "visualize_plate(plate_processed_data, feature='Apoptosis Ratio Before Outlier Removal', outlier=True, max_value=1)"
      ],
      "execution_count": null,
      "outputs": [
        {
          "output_type": "display_data",
          "data": {
            "image/png": "[encoded data removed]",
            "text/plain": [
              "<Figure size 720x720 with 2 Axes>"
            ]
          },
          "metadata": {
            "needs_background": "light"
          }
        }
      ]
    },
    {
      "cell_type": "code",
      "metadata": {
        "colab": {
          "base_uri": "https://localhost:8080/",
          "height": 366
        },
        "id": "4Eo5xpHkczSF",
        "outputId": "b6edd71a-24dd-4d36-cb76-4a2a8ed350b6"
      },
      "source": [
        "visualize_plate(plate_processed_data, feature='# Cells', outlier=False, max_value=5000)"
      ],
      "execution_count": null,
      "outputs": [
        {
          "output_type": "display_data",
          "data": {
            "image/png": "[encoded data removed]",
            "text/plain": [
              "<Figure size 720x720 with 2 Axes>"
            ]
          },
          "metadata": {
            "needs_background": "light"
          }
        }
      ]
    },
    {
      "cell_type": "markdown",
      "metadata": {
        "id": "vwCezCiKg4Ur"
      },
      "source": [
        "**Hit Detection**\n",
        "\n",
        "In order to visually detect wells that have statistically significant neurite outgrowth value we can for instance plot all the well's z-score values for a specific feature."
      ]
    },
    {
      "cell_type": "code",
      "metadata": {
        "colab": {
          "base_uri": "https://localhost:8080/",
          "height": 336
        },
        "id": "a7TyIMG1g_YD",
        "outputId": "6878f25f-d7d8-4da7-d3dc-7b60c284e82a"
      },
      "source": [
        "from src.data_processing.results_visualization import visualize_hits\n",
        "visualize_hits(plate_processed_data, feature='Expected VS Real Connection Ratio', figsize=(10,5), k=2)"
      ],
      "execution_count": null,
      "outputs": [
        {
          "output_type": "display_data",
          "data": {
            "image/png": "[encoded data removed]",
            "text/plain": [
              "<Figure size 720x360 with 1 Axes>"
            ]
          },
          "metadata": {
            "needs_background": "light"
          }
        }
      ]
    },
    {
      "cell_type": "code",
      "metadata": {
        "colab": {
          "base_uri": "https://localhost:8080/",
          "height": 336
        },
        "id": "mdWPSkiBotwc",
        "outputId": "0955a5c8-80dc-4b39-ed1b-7deb7e9e849d"
      },
      "source": [
        "visualize_hits(plate_processed_data, feature='Disconnected With Neurites', figsize=(10,5), k=-2)"
      ],
      "execution_count": null,
      "outputs": [
        {
          "output_type": "display_data",
          "data": {
            "image/png": "[encoded data removed]",
            "text/plain": [
              "<Figure size 720x360 with 1 Axes>"
            ]
          },
          "metadata": {
            "needs_background": "light"
          }
        }
      ]
    }
  ]
}